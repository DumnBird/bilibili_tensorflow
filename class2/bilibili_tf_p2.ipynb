{
 "cells": [
  {
   "cell_type": "code",
   "execution_count": 79,
   "metadata": {},
   "outputs": [
    {
     "name": "stdout",
     "output_type": "stream",
     "text": [
      "<tf.Variable 'Variable_72:0' shape=() dtype=float32_ref>\n"
     ]
    }
   ],
   "source": [
    "import numpy as np\n",
    "import tensorflow as tf"
   ]
  },
  {
   "cell_type": "code",
   "execution_count": 20,
   "metadata": {},
   "outputs": [
    {
     "name": "stdout",
     "output_type": "stream",
     "text": [
      "[-2 -1]\n"
     ]
    }
   ],
   "source": [
    "m1 = tf.Variable([1,2])\n",
    "m2 = tf.constant([3,3])\n",
    "m3 = tf.subtract(m1,m2)\n",
    "\n",
    "init = tf.global_variables_initializer()\n",
    "\n",
    "with tf.Session() as sess:\n",
    "    sess.run(init)\n",
    "    print(sess.run(m3))"
   ]
  },
  {
   "cell_type": "code",
   "execution_count": 24,
   "metadata": {},
   "outputs": [
    {
     "name": "stdout",
     "output_type": "stream",
     "text": [
      "1\n",
      "2\n",
      "3\n",
      "4\n",
      "5\n"
     ]
    }
   ],
   "source": [
    "#定义变量state，初始值=0\n",
    "state = tf.Variable(0, name = \"counter\")\n",
    "#note：定义一个加一op\n",
    "add_1 = tf.add(state,1)\n",
    "#定义一个赋值op\n",
    "update = tf.assign(state, add_1)\n",
    "\n",
    "init = tf.global_variables_initializer()\n",
    "with tf.Session() as sess:\n",
    "    sess.run(init)\n",
    "    for _ in range(5):\n",
    "        print(sess.run(update))\n"
   ]
  },
  {
   "cell_type": "code",
   "execution_count": 30,
   "metadata": {},
   "outputs": [
    {
     "name": "stdout",
     "output_type": "stream",
     "text": [
      "[array([4, 5]), array([3, 6])]\n"
     ]
    }
   ],
   "source": [
    "#fetch\n",
    "add = tf.add(m1,m2)\n",
    "mul = tf.multiply(m1,m2)\n",
    "init = tf.global_variables_initializer()\n",
    "with tf.Session() as sess:\n",
    "    sess.run(init)\n",
    "    print(sess.run([add, mul]))"
   ]
  },
  {
   "cell_type": "code",
   "execution_count": 32,
   "metadata": {},
   "outputs": [
    {
     "name": "stdout",
     "output_type": "stream",
     "text": [
      "3.0\n"
     ]
    }
   ],
   "source": [
    "#feed\n",
    "p1= tf.placeholder(tf.float32)\n",
    "p2 = tf.placeholder(tf.float32)\n",
    "op = tf.add(p1,p2)\n",
    "init = tf.global_variables_initializer()\n",
    "# with tf.Session() as sess:\n",
    "with tf.Session() as sess:\n",
    "    sess.run(init)\n",
    "    print(sess.run(op, feed_dict = {p1:1,p2:2}))"
   ]
  },
  {
   "cell_type": "code",
   "execution_count": 95,
   "metadata": {},
   "outputs": [
    {
     "name": "stdout",
     "output_type": "stream",
     "text": [
      "0 [0.40161228, 0.8194351]\n",
      "20 [0.5116478, 1.785133]\n",
      "40 [0.33492646, 1.8773764]\n",
      "60 [0.23407182, 1.9300191]\n",
      "80 [0.17651439, 1.9600621]\n",
      "100 [0.1436666, 1.9772075]\n",
      "120 [0.12492039, 1.9869924]\n",
      "140 [0.114221916, 1.9925766]\n",
      "160 [0.108116426, 1.9957635]\n",
      "180 [0.10463203, 1.9975822]\n",
      "200 [0.102643505, 1.9986202]\n"
     ]
    }
   ],
   "source": [
    "np.random.seed(1)\n",
    "x = np.random.rand(100)\n",
    "y = x * 0.1 + 2\n",
    "\n",
    "k = tf.Variable(0.)#note:一定是0.而不是0\n",
    "b = tf.Variable(0.)\n",
    "y1 = x*k+b\n",
    "\n",
    "loss = tf.reduce_mean(tf.square(y1 - y))\n",
    "train = tf.train.GradientDescentOptimizer(0.2).minimize(loss)\n",
    "\n",
    "init = tf.global_variables_initializer()\n",
    "with tf.Session() as sess:\n",
    "    sess.run(init)\n",
    "    for i in range(201):\n",
    "        sess.run(train)\n",
    "        if i%20 == 0:\n",
    "            print(i,sess.run([k,b]))\n",
    "\n",
    "\n"
   ]
  },
  {
   "cell_type": "code",
   "execution_count": 96,
   "metadata": {},
   "outputs": [
    {
     "name": "stdout",
     "output_type": "stream",
     "text": [
      "0 [0.40161228, 0.8194351]\n",
      "20 [0.5116478, 1.785133]\n",
      "40 [0.33492646, 1.8773764]\n",
      "60 [0.23407182, 1.9300191]\n",
      "80 [0.17651439, 1.9600621]\n",
      "100 [0.1436666, 1.9772075]\n",
      "120 [0.12492039, 1.9869924]\n",
      "140 [0.114221916, 1.9925766]\n",
      "160 [0.108116426, 1.9957635]\n",
      "180 [0.10463203, 1.9975822]\n",
      "200 [0.102643505, 1.9986202]\n"
     ]
    }
   ],
   "source": [
    "np.random.seed(1)\n",
    "x_data = np.random.rand(100)\n",
    "y_data = x_data * 0.1 + 2\n",
    "\n",
    "b = tf.Variable(0.)\n",
    "k = tf.Variable(0.)\n",
    "y = k * x_data + b\n",
    "\n",
    "loss = tf.reduce_mean(tf.square(y_data - y))\n",
    "optimizer = tf.train.GradientDescentOptimizer(0.2)\n",
    "train = optimizer.minimize(loss)\n",
    "\n",
    "init = tf.global_variables_initializer()\n",
    "\n",
    "with tf.Session() as sess:\n",
    "    sess.run(init)\n",
    "    for step in range(201):\n",
    "        sess.run(train)\n",
    "        if step%20 == 0:\n",
    "            print(step, sess.run([k,b]))\n"
   ]
  },
  {
   "cell_type": "code",
   "execution_count": null,
   "metadata": {
    "collapsed": true
   },
   "outputs": [],
   "source": []
  }
 ],
 "metadata": {
  "kernelspec": {
   "display_name": "Python 3",
   "language": "python",
   "name": "python3"
  },
  "language_info": {
   "codemirror_mode": {
    "name": "ipython",
    "version": 3
   },
   "file_extension": ".py",
   "mimetype": "text/x-python",
   "name": "python",
   "nbconvert_exporter": "python",
   "pygments_lexer": "ipython3",
   "version": "3.5.3"
  }
 },
 "nbformat": 4,
 "nbformat_minor": 2
}
