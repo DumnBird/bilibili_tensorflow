{
 "cells": [
  {
   "cell_type": "code",
   "execution_count": 3,
   "metadata": {},
   "outputs": [],
   "source": [
    "import tensorflow as tf\n",
    "from tensorflow.examples.tutorials.mnist import input_data"
   ]
  },
  {
   "cell_type": "code",
   "execution_count": 4,
   "metadata": {},
   "outputs": [
    {
     "name": "stdout",
     "output_type": "stream",
     "text": [
      "WARNING:tensorflow:From <ipython-input-4-c57d875726ec>:1: read_data_sets (from tensorflow.contrib.learn.python.learn.datasets.mnist) is deprecated and will be removed in a future version.\n",
      "Instructions for updating:\n",
      "Please use alternatives such as official/mnist/dataset.py from tensorflow/models.\n",
      "WARNING:tensorflow:From C:\\Anaconda\\envs\\py35\\lib\\site-packages\\tensorflow\\contrib\\learn\\python\\learn\\datasets\\mnist.py:260: maybe_download (from tensorflow.contrib.learn.python.learn.datasets.base) is deprecated and will be removed in a future version.\n",
      "Instructions for updating:\n",
      "Please write your own downloading logic.\n",
      "WARNING:tensorflow:From C:\\Anaconda\\envs\\py35\\lib\\site-packages\\tensorflow\\contrib\\learn\\python\\learn\\datasets\\mnist.py:262: extract_images (from tensorflow.contrib.learn.python.learn.datasets.mnist) is deprecated and will be removed in a future version.\n",
      "Instructions for updating:\n",
      "Please use tf.data to implement this functionality.\n",
      "Extracting D:\\MNIST\\train-images-idx3-ubyte.gz\n",
      "WARNING:tensorflow:From C:\\Anaconda\\envs\\py35\\lib\\site-packages\\tensorflow\\contrib\\learn\\python\\learn\\datasets\\mnist.py:267: extract_labels (from tensorflow.contrib.learn.python.learn.datasets.mnist) is deprecated and will be removed in a future version.\n",
      "Instructions for updating:\n",
      "Please use tf.data to implement this functionality.\n",
      "Extracting D:\\MNIST\\train-labels-idx1-ubyte.gz\n",
      "WARNING:tensorflow:From C:\\Anaconda\\envs\\py35\\lib\\site-packages\\tensorflow\\contrib\\learn\\python\\learn\\datasets\\mnist.py:110: dense_to_one_hot (from tensorflow.contrib.learn.python.learn.datasets.mnist) is deprecated and will be removed in a future version.\n",
      "Instructions for updating:\n",
      "Please use tf.one_hot on tensors.\n",
      "Extracting D:\\MNIST\\t10k-images-idx3-ubyte.gz\n",
      "Extracting D:\\MNIST\\t10k-labels-idx1-ubyte.gz\n",
      "WARNING:tensorflow:From C:\\Anaconda\\envs\\py35\\lib\\site-packages\\tensorflow\\contrib\\learn\\python\\learn\\datasets\\mnist.py:290: DataSet.__init__ (from tensorflow.contrib.learn.python.learn.datasets.mnist) is deprecated and will be removed in a future version.\n",
      "Instructions for updating:\n",
      "Please use alternatives such as official/mnist/dataset.py from tensorflow/models.\n"
     ]
    }
   ],
   "source": [
    "mnist = input_data.read_data_sets( 'D:\\MNIST',one_hot = True)"
   ]
  },
  {
   "cell_type": "code",
   "execution_count": 8,
   "metadata": {},
   "outputs": [
    {
     "name": "stdout",
     "output_type": "stream",
     "text": [
      "0 : test_acc= 0.9307 , train_acc= 0.94865453\n",
      "1 : test_acc= 0.9486 , train_acc= 0.97481817\n",
      "2 : test_acc= 0.9513 , train_acc= 0.98481816\n",
      "3 : test_acc= 0.956 , train_acc= 0.99143636\n",
      "4 : test_acc= 0.9587 , train_acc= 0.99512726\n",
      "5 : test_acc= 0.9591 , train_acc= 0.9977091\n",
      "6 : test_acc= 0.96 , train_acc= 0.99874544\n",
      "7 : test_acc= 0.961 , train_acc= 0.99907273\n",
      "8 : test_acc= 0.961 , train_acc= 0.9996909\n",
      "9 : test_acc= 0.9621 , train_acc= 0.9998182\n"
     ]
    }
   ],
   "source": [
    "batch_size = 100\n",
    "num_batch = mnist.train.num_examples // batch_size\n",
    "\n",
    "\n",
    "num_nodes_L0 = 28 * 28\n",
    "num_labels  = 10\n",
    "\n",
    "num_nodes_L1 = 2000\n",
    "num_nodes_L2 = 1000\n",
    "num_nodes_L3 = 10\n",
    "\n",
    "\n",
    "#structure start\n",
    "X = tf.placeholder(tf.float32, [None, num_nodes_L0])\n",
    "Y = tf.placeholder(tf.float32, [None, num_labels])\n",
    "keep_prob = tf.placeholder(tf.float32)\n",
    "\n",
    "\n",
    "# W_L1 = tf.Variable(tf.random_normal([num_nodes_L0, num_nodes_L1]))效果最差，因为初始权值太大---均值为0 ，方差为1\n",
    "W_L1 = tf.Variable(tf.random_normal([num_nodes_L0, num_nodes_L1],stddev=0.2))#效果不错，和0初始化差不多\n",
    "# W_L1 = tf.Variable(tf.zeros([num_nodes_L0, num_nodes_L1]))\n",
    "b_L1 = tf.Variable(tf.zeros([1, num_nodes_L1]))\n",
    "XW_plus_b_L1 = tf.matmul(X, W_L1) + b_L1\n",
    "L1 = tf.nn.relu(XW_plus_b_L1)\n",
    "L1_drop = tf.nn.dropout(L1, keep_prob)\n",
    "\n",
    "W_L2 = tf.Variable(tf.random_normal([num_nodes_L1, num_nodes_L2],stddev=0.2))\n",
    "b_L2 = tf.Variable(tf.zeros([1, num_nodes_L2]))\n",
    "XW_plus_b_L2 = tf.matmul(L1, W_L2) + b_L2\n",
    "L2 = tf.nn.relu(XW_plus_b_L2)\n",
    "L2_drop = tf.nn.dropout(L2, keep_prob)\n",
    "\n",
    "\n",
    "W_L3 = tf.Variable(tf.random_normal([num_nodes_L2, num_nodes_L3],stddev=0.2))\n",
    "b_L3 = tf.Variable(tf.zeros([1, num_nodes_L3]))\n",
    "XW_plus_b_L3 = tf.matmul(L2, W_L3) + b_L3\n",
    "L3 = tf.nn.softmax(XW_plus_b_L3)\n",
    "\n",
    "\n",
    "\n",
    "#二次代价函数\n",
    "# loss = tf.reduce_mean(tf.square(L1 - Y))\n",
    "loss = tf.reduce_mean(tf.nn.softmax_cross_entropy_with_logits(labels=Y, logits=XW_plus_b_L3))\n",
    "\n",
    "train_step = tf.train.GradientDescentOptimizer(0.1).minimize(loss)\n",
    "\n",
    "#布尔值\n",
    "correct_prediction_bool = tf.equal(tf.argmax(L3, 1), tf.argmax(Y, 1))\n",
    "#布尔转float32\n",
    "correct_prediction_float = tf.cast(correct_prediction_bool, tf.float32)\n",
    "#准确率\n",
    "accuracy = tf.reduce_mean(correct_prediction_float)\n",
    "#structure end\n",
    "\n",
    "with tf.Session() as sess:\n",
    "    sess.run(tf.global_variables_initializer())\n",
    "    for epoch in range(10):\n",
    "        for batch in range(num_batch):\n",
    "            batch_x, batch_y = mnist.train.next_batch(batch_size)\n",
    "            sess.run(train_step, feed_dict = {X:batch_x, Y:batch_y})\n",
    "        print(epoch, \":\", \"test_acc=\",sess.run(accuracy, feed_dict = {X:mnist.test.images, Y:mnist.test.labels ,keep_prob:0.8}),\",\",\n",
    "              \"train_acc=\",sess.run(accuracy, feed_dict = {X:mnist.train.images, Y:mnist.train.labels, keep_prob:0.8}))\n",
    "    "
   ]
  },
  {
   "cell_type": "code",
   "execution_count": null,
   "metadata": {
    "collapsed": true
   },
   "outputs": [],
   "source": [
    "#2layer\n",
    "0 : test_acc= 0.9331 , train_acc= 0.94258183\n",
    "1 : test_acc= 0.9464 , train_acc= 0.96263635\n",
    "2 : test_acc= 0.9521 , train_acc= 0.9738727\n",
    "3 : test_acc= 0.958 , train_acc= 0.98\n",
    "4 : test_acc= 0.961 , train_acc= 0.9840364\n",
    "5 : test_acc= 0.9638 , train_acc= 0.9883818\n",
    "6 : test_acc= 0.9652 , train_acc= 0.9893818\n",
    "7 : test_acc= 0.9658 , train_acc= 0.99241817\n",
    "8 : test_acc= 0.9678 , train_acc= 0.9948\n",
    "9 : test_acc= 0.9677 , train_acc= 0.9953455\n",
    "10 : test_acc= 0.9696 , train_acc= 0.997\n",
    "11 : test_acc= 0.9704 , train_acc= 0.99743634\n",
    "12 : test_acc= 0.9696 , train_acc= 0.9982909\n",
    "13 : test_acc= 0.9704 , train_acc= 0.99912727\n",
    "14 : test_acc= 0.971 , train_acc= 0.9992727\n",
    "15 : test_acc= 0.9713 , train_acc= 0.9993455\n",
    "16 : test_acc= 0.9721 , train_acc= 0.9995273\n",
    "17 : test_acc= 0.9716 , train_acc= 0.99965453\n",
    "18 : test_acc= 0.9723 , train_acc= 0.99978185\n",
    "19 : test_acc= 0.9734 , train_acc= 0.99972725\n",
    "    \n",
    "\n",
    "#3layer\n",
    "0 : test_acc= 0.9372 , train_acc= 0.96007276\n",
    "1 : test_acc= 0.9497 , train_acc= 0.9834545\n",
    "2 : test_acc= 0.9531 , train_acc= 0.9930182\n",
    "3 : test_acc= 0.9574 , train_acc= 0.9971273\n",
    "4 : test_acc= 0.9597 , train_acc= 0.9992909\n",
    "5 : test_acc= 0.9608 , train_acc= 0.99970907\n",
    "6 : test_acc= 0.9606 , train_acc= 0.9999273\n",
    "7 : test_acc= 0.9619 , train_acc= 0.99994546\n",
    "8 : test_acc= 0.9622 , train_acc= 1.0\n",
    "9 : test_acc= 0.962 , train_acc= 1.0\n",
    "\n",
    "#3layer with dropout=0.8\n",
    "0 : test_acc= 0.9307 , train_acc= 0.94865453\n",
    "1 : test_acc= 0.9486 , train_acc= 0.97481817\n",
    "2 : test_acc= 0.9513 , train_acc= 0.98481816\n",
    "3 : test_acc= 0.956 , train_acc= 0.99143636\n",
    "4 : test_acc= 0.9587 , train_acc= 0.99512726\n",
    "5 : test_acc= 0.9591 , train_acc= 0.9977091\n",
    "6 : test_acc= 0.96 , train_acc= 0.99874544\n",
    "7 : test_acc= 0.961 , train_acc= 0.99907273\n",
    "8 : test_acc= 0.961 , train_acc= 0.9996909\n",
    "9 : test_acc= 0.9621 , train_acc= 0.9998182"
   ]
  }
 ],
 "metadata": {
  "kernelspec": {
   "display_name": "Python 3",
   "language": "python",
   "name": "python3"
  },
  "language_info": {
   "codemirror_mode": {
    "name": "ipython",
    "version": 3
   },
   "file_extension": ".py",
   "mimetype": "text/x-python",
   "name": "python",
   "nbconvert_exporter": "python",
   "pygments_lexer": "ipython3",
   "version": "3.5.3"
  }
 },
 "nbformat": 4,
 "nbformat_minor": 2
}
