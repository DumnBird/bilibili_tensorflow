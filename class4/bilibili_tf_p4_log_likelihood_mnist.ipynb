{
 "cells": [
  {
   "cell_type": "code",
   "execution_count": 1,
   "metadata": {
    "scrolled": true
   },
   "outputs": [
    {
     "name": "stderr",
     "output_type": "stream",
     "text": [
      "C:\\Anaconda\\envs\\py35\\lib\\site-packages\\h5py\\__init__.py:34: FutureWarning: Conversion of the second argument of issubdtype from `float` to `np.floating` is deprecated. In future, it will be treated as `np.float64 == np.dtype(float).type`.\n",
      "  from ._conv import register_converters as _register_converters\n"
     ]
    }
   ],
   "source": [
    "import tensorflow as tf\n",
    "from tensorflow.examples.tutorials.mnist import input_data"
   ]
  },
  {
   "cell_type": "code",
   "execution_count": 3,
   "metadata": {
    "scrolled": true
   },
   "outputs": [
    {
     "name": "stdout",
     "output_type": "stream",
     "text": [
      "Extracting D:\\MNIST\\train-images-idx3-ubyte.gz\n",
      "Extracting D:\\MNIST\\train-labels-idx1-ubyte.gz\n",
      "Extracting D:\\MNIST\\t10k-images-idx3-ubyte.gz\n",
      "Extracting D:\\MNIST\\t10k-labels-idx1-ubyte.gz\n"
     ]
    }
   ],
   "source": [
    "mnist = input_data.read_data_sets( 'D:\\MNIST',one_hot = True)"
   ]
  },
  {
   "cell_type": "code",
   "execution_count": 11,
   "metadata": {},
   "outputs": [
    {
     "name": "stdout",
     "output_type": "stream",
     "text": [
      "0 , 0.8863\n",
      "1 , 0.9015\n",
      "2 , 0.9068\n",
      "3 , 0.9117\n",
      "4 , 0.9127\n",
      "5 , 0.9145\n",
      "6 , 0.9158\n",
      "7 , 0.9178\n",
      "8 , 0.9181\n",
      "9 , 0.9195\n",
      "10 , 0.9211\n",
      "11 , 0.9205\n",
      "12 , 0.9191\n",
      "13 , 0.9223\n",
      "14 , 0.9208\n",
      "15 , 0.9221\n",
      "16 , 0.9197\n",
      "17 , 0.9212\n",
      "18 , 0.9227\n",
      "19 , 0.9205\n",
      "20 , 0.9219\n",
      "21 , 0.9206\n",
      "22 , 0.9213\n",
      "23 , 0.9235\n",
      "24 , 0.9218\n",
      "25 , 0.9243\n",
      "26 , 0.9235\n",
      "27 , 0.9236\n",
      "28 , 0.9246\n",
      "29 , 0.9232\n",
      "30 , 0.9245\n",
      "31 , 0.9244\n",
      "32 , 0.9232\n",
      "33 , 0.9238\n",
      "34 , 0.9239\n",
      "35 , 0.9232\n",
      "36 , 0.9227\n",
      "37 , 0.9232\n",
      "38 , 0.9247\n",
      "39 , 0.9228\n",
      "40 , 0.9238\n",
      "41 , 0.9226\n",
      "42 , 0.9237\n",
      "43 , 0.9249\n",
      "44 , 0.9227\n",
      "45 , 0.9249\n",
      "46 , 0.9247\n",
      "47 , 0.9235\n",
      "48 , 0.9239\n",
      "49 , 0.9248\n",
      "50 , 0.9238\n",
      "51 , 0.9243\n",
      "52 , 0.924\n",
      "53 , 0.925\n",
      "54 , 0.9243\n",
      "55 , 0.9242\n",
      "56 , 0.9239\n",
      "57 , 0.9241\n",
      "58 , 0.9257\n",
      "59 , 0.9254\n"
     ]
    }
   ],
   "source": [
    "batch_size = 100\n",
    "num_batch = mnist.train.num_examples // batch_size\n",
    "\n",
    "\n",
    "num_nodes_L0 = 28 * 28\n",
    "num_labels  = 10\n",
    "\n",
    "num_nodes_L1 = 10\n",
    "num_nodes_L2 = 10\n",
    "\n",
    "\n",
    "#structure start\n",
    "X = tf.placeholder(tf.float32, [None, num_nodes_L0])\n",
    "Y = tf.placeholder(tf.float32, [None, num_labels])\n",
    "\n",
    "\n",
    "# W_L1 = tf.Variable(tf.random_normal([num_nodes_L0, num_nodes_L1]))效果最差，因为初始权值太大---均值为0 ，方差为1\n",
    "W_L1 = tf.Variable(tf.random_normal([num_nodes_L0, num_nodes_L1],stddev=0.2))#效果不错，和0初始化差不多\n",
    "# W_L1 = tf.Variable(tf.zeros([num_nodes_L0, num_nodes_L1]))\n",
    "b_L1 = tf.Variable(tf.zeros([1, num_nodes_L1]))\n",
    "XW_plus_b = tf.matmul(X, W_L1) + b_L1\n",
    "L1 = tf.nn.softmax(XW_plus_b)\n",
    "\n",
    "#二次代价函数\n",
    "# loss = tf.reduce_mean(tf.square(L1 - Y))\n",
    "loss = tf.reduce_mean(tf.nn.softmax_cross_entropy_with_logits(labels=Y, logits=XW_plus_b))\n",
    "\n",
    "train_step = tf.train.GradientDescentOptimizer(0.1).minimize(loss)\n",
    "\n",
    "#布尔值\n",
    "correct_prediction_bool = tf.equal(tf.argmax(L1, 1), tf.argmax(Y, 1))\n",
    "#布尔转float32\n",
    "correct_prediction_float = tf.cast(correct_prediction_bool, tf.float32)\n",
    "#准确率\n",
    "accuracy = tf.reduce_mean(correct_prediction_float)\n",
    "#structure end\n",
    "\n",
    "with tf.Session() as sess:\n",
    "    sess.run(tf.global_variables_initializer())\n",
    "    for epoch in range(60):\n",
    "        for batch in range(num_batch):\n",
    "            batch_x, batch_y = mnist.train.next_batch(batch_size)\n",
    "            sess.run(train_step, feed_dict = {X:batch_x, Y:batch_y})\n",
    "        print(epoch, \",\", sess.run(accuracy, feed_dict = {X:mnist.test.images, Y:mnist.test.labels}))\n",
    "    "
   ]
  }
 ],
 "metadata": {
  "kernelspec": {
   "display_name": "Python 3",
   "language": "python",
   "name": "python3"
  },
  "language_info": {
   "codemirror_mode": {
    "name": "ipython",
    "version": 3
   },
   "file_extension": ".py",
   "mimetype": "text/x-python",
   "name": "python",
   "nbconvert_exporter": "python",
   "pygments_lexer": "ipython3",
   "version": "3.5.3"
  }
 },
 "nbformat": 4,
 "nbformat_minor": 2
}
