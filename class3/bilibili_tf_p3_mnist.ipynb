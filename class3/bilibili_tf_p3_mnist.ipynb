{
 "cells": [
  {
   "cell_type": "code",
   "execution_count": 1,
   "metadata": {},
   "outputs": [
    {
     "name": "stderr",
     "output_type": "stream",
     "text": [
      "C:\\Anaconda\\envs\\py35\\lib\\site-packages\\h5py\\__init__.py:34: FutureWarning: Conversion of the second argument of issubdtype from `float` to `np.floating` is deprecated. In future, it will be treated as `np.float64 == np.dtype(float).type`.\n",
      "  from ._conv import register_converters as _register_converters\n"
     ]
    },
    {
     "name": "stdout",
     "output_type": "stream",
     "text": [
      "test\n"
     ]
    }
   ],
   "source": [
    "import tensorflow as tf\n",
    "from tensorflow.examples.tutorials.mnist import input_data"
   ]
  },
  {
   "cell_type": "code",
   "execution_count": 4,
   "metadata": {},
   "outputs": [
    {
     "name": "stdout",
     "output_type": "stream",
     "text": [
      "Extracting D:\\MNIST\\train-images-idx3-ubyte.gz\n",
      "Extracting D:\\MNIST\\train-labels-idx1-ubyte.gz\n",
      "Extracting D:\\MNIST\\t10k-images-idx3-ubyte.gz\n",
      "Extracting D:\\MNIST\\t10k-labels-idx1-ubyte.gz\n"
     ]
    }
   ],
   "source": [
    "mnist = input_data.read_data_sets( 'D:\\MNIST',one_hot = True)"
   ]
  },
  {
   "cell_type": "code",
   "execution_count": 12,
   "metadata": {},
   "outputs": [
    {
     "name": "stdout",
     "output_type": "stream",
     "text": [
      "0 , 0.4954\n",
      "1 , 0.6169\n",
      "2 , 0.6903\n",
      "3 , 0.8\n",
      "4 , 0.8304\n",
      "5 , 0.8479\n",
      "6 , 0.8569\n",
      "7 , 0.8641\n",
      "8 , 0.8725\n",
      "9 , 0.879\n",
      "10 , 0.8823\n",
      "11 , 0.8857\n",
      "12 , 0.889\n",
      "13 , 0.891\n",
      "14 , 0.8928\n",
      "15 , 0.8948\n",
      "16 , 0.8964\n",
      "17 , 0.8986\n",
      "18 , 0.8986\n",
      "19 , 0.9005\n",
      "20 , 0.9017\n",
      "21 , 0.9033\n",
      "22 , 0.9036\n",
      "23 , 0.9047\n",
      "24 , 0.9055\n",
      "25 , 0.9065\n",
      "26 , 0.907\n",
      "27 , 0.9072\n",
      "28 , 0.908\n",
      "29 , 0.9095\n",
      "30 , 0.9097\n",
      "31 , 0.9103\n",
      "32 , 0.9103\n",
      "33 , 0.9119\n",
      "34 , 0.9124\n",
      "35 , 0.9125\n",
      "36 , 0.9132\n",
      "37 , 0.9134\n",
      "38 , 0.9138\n",
      "39 , 0.914\n",
      "40 , 0.9136\n",
      "41 , 0.9142\n",
      "42 , 0.9156\n",
      "43 , 0.9152\n",
      "44 , 0.9159\n",
      "45 , 0.9158\n",
      "46 , 0.916\n",
      "47 , 0.9169\n",
      "48 , 0.9169\n",
      "49 , 0.917\n",
      "50 , 0.9175\n",
      "51 , 0.9175\n",
      "52 , 0.918\n",
      "53 , 0.9182\n",
      "54 , 0.9184\n",
      "55 , 0.9186\n",
      "56 , 0.9184\n",
      "57 , 0.919\n",
      "58 , 0.9192\n",
      "59 , 0.9191\n"
     ]
    }
   ],
   "source": [
    "batch_size = 100\n",
    "num_batch = mnist.train.num_examples // batch_size\n",
    "\n",
    "\n",
    "num_nodes_L0 = 28 * 28\n",
    "num_labels  = 10\n",
    "\n",
    "num_nodes_L1 = 100\n",
    "num_nodes_L2 = 10\n",
    "\n",
    "\n",
    "#structure start\n",
    "X = tf.placeholder(tf.float32, [None, num_nodes_L0])\n",
    "Y = tf.placeholder(tf.float32, [None, num_labels])\n",
    "\n",
    "\n",
    "# W_L1 = tf.Variable(tf.random_normal([num_nodes_L0, num_nodes_L1]))效果最差，因为初始权值太大---均值为0 ，方差为1\n",
    "W_L1 = tf.Variable(tf.random_normal([num_nodes_L0, num_nodes_L1],stddev=0.2))#效果不错，和0初始化差不多\n",
    "# W_L1 = tf.Variable(tf.zeros([num_nodes_L0, num_nodes_L1]))\n",
    "b_L1 = tf.Variable(tf.zeros([1, num_nodes_L1]))\n",
    "XW_plus_b = tf.matmul(X, W_L1) + b_L1\n",
    "L1 = tf.nn.softmax(XW_plus_b)\n",
    "\n",
    "loss = tf.reduce_mean(tf.square(L1 - Y))\n",
    "train_step = tf.train.GradientDescentOptimizer(0.2).minimize(loss)\n",
    "\n",
    "#布尔值\n",
    "correct_prediction_bool = tf.equal(tf.argmax(L1, 1), tf.argmax(Y, 1))\n",
    "#布尔转float32\n",
    "correct_prediction_float = tf.cast(correct_prediction_bool, tf.float32)\n",
    "#准确率\n",
    "accuracy = tf.reduce_mean(correct_prediction_float)\n",
    "#structure end\n",
    "\n",
    "with tf.Session() as sess:\n",
    "    sess.run(tf.global_variables_initializer())\n",
    "    for epoch in range(60):\n",
    "        for batch in range(num_batch):\n",
    "            batch_x, batch_y = mnist.train.next_batch(batch_size)\n",
    "            sess.run(train_step, feed_dict = {X:batch_x, Y:batch_y})\n",
    "\n",
    "        print(epoch, \",\", sess.run(accuracy, feed_dict = {X:mnist.test.images, Y:mnist.test.labels}))\n",
    "    "
   ]
  },
  {
   "cell_type": "code",
   "execution_count": 9,
   "metadata": {},
   "outputs": [
    {
     "name": "stdout",
     "output_type": "stream",
     "text": [
      "784\n"
     ]
    }
   ],
   "source": []
  }
 ],
 "metadata": {
  "kernelspec": {
   "display_name": "Python 3",
   "language": "python",
   "name": "python3"
  },
  "language_info": {
   "codemirror_mode": {
    "name": "ipython",
    "version": 3
   },
   "file_extension": ".py",
   "mimetype": "text/x-python",
   "name": "python",
   "nbconvert_exporter": "python",
   "pygments_lexer": "ipython3",
   "version": "3.5.3"
  }
 },
 "nbformat": 4,
 "nbformat_minor": 2
}
