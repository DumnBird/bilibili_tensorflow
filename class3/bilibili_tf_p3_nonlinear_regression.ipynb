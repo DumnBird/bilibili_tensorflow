{
 "cells": [
  {
   "cell_type": "code",
   "execution_count": 10,
   "metadata": {
    "collapsed": true
   },
   "outputs": [],
   "source": [
    "import numpy as np\n",
    "import tensorflow as tf\n",
    "import matplotlib.pyplot as plt"
   ]
  },
  {
   "cell_type": "code",
   "execution_count": 24,
   "metadata": {},
   "outputs": [
    {
     "data": {
      "image/png": "[encoded data removed]",
      "text/plain": [
       "<matplotlib.figure.Figure at 0x18c39a4e668>"
      ]
     },
     "metadata": {},
     "output_type": "display_data"
    }
   ],
   "source": [
    "X = tf.placeholder(tf.float32, [None, 1])\n",
    "Y = tf.placeholder(tf.float32, [None, 1])\n",
    "\n",
    "W_L1 = tf.Variable(tf.random_normal([1,10]))\n",
    "b_L1 = tf.Variable(tf.zeros([1,10]))\n",
    "WX_plus_b_L1 = tf.matmul(X, W_L1) + b_L1\n",
    "L1 = tf.nn.tanh(WX_plus_b_L1)\n",
    "\n",
    "\n",
    "W_L2 = tf.Variable(tf.random_normal([10,1]))\n",
    "b_L2 = tf.Variable(tf.zeros([1,1]))\n",
    "WX_plus_b_L2 = tf.matmul(L1, W_L2) + b_L2\n",
    "prediction = tf.nn.tanh(WX_plus_b_L2)\n",
    "\n",
    "loss = tf.reduce_mean(tf.square(Y - prediction))\n",
    "train_step = tf.train.GradientDescentOptimizer(0.5).minimize(loss)\n",
    "\n",
    "with tf.Session() as sess:\n",
    "    sess.run(tf.global_variables_initializer())\n",
    "    for _ in range(10000):\n",
    "        sess.run(train_step, feed_dict = {X:X_data, Y:Y_data})\n",
    "    prediction_value = sess.run(prediction, feed_dict = {X:X_data})\n",
    "    \n",
    "    plt.figure()\n",
    "    plt.scatter(X_data, Y_data)\n",
    "    plt.plot(X_data, prediction_value, 'r-', lw = 1)\n",
    "    plt.show()\n",
    "    \n",
    "\n",
    "\n",
    "\n"
   ]
  },
  {
   "cell_type": "code",
   "execution_count": 16,
   "metadata": {},
   "outputs": [
    {
     "name": "stdout",
     "output_type": "stream",
     "text": [
      "(200, 1)\n",
      "(200, 1)\n"
     ]
    }
   ],
   "source": [
    "X_data = np.linspace(-1,1,200).astype(np.float32)[:,np.newaxis]\n",
    "print(X_data.shape)\n",
    "noise = np.random.normal(0, 0.02, X_data.shape)\n",
    "print(Y_data.shape)\n",
    "Y_data = np.square(X_data) + noise"
   ]
  },
  {
   "cell_type": "code",
   "execution_count": null,
   "metadata": {
    "collapsed": true
   },
   "outputs": [],
   "source": []
  }
 ],
 "metadata": {
  "kernelspec": {
   "display_name": "Python 3",
   "language": "python",
   "name": "python3"
  },
  "language_info": {
   "codemirror_mode": {
    "name": "ipython",
    "version": 3
   },
   "file_extension": ".py",
   "mimetype": "text/x-python",
   "name": "python",
   "nbconvert_exporter": "python",
   "pygments_lexer": "ipython3",
   "version": "3.5.3"
  }
 },
 "nbformat": 4,
 "nbformat_minor": 2
}
